{
 "cells": [
  {
   "cell_type": "markdown",
   "source": [
    "# Genetic Algorithms\n",
    "\n",
    "- adaptive heuristic search 알고리즘\n",
    "- 최적화 및 서치 알고리즘에서 주로 사용됨\n",
    "\n",
    "![](https://media.geeksforgeeks.org/wp-content/uploads/genetic-algorithm.png)\n",
    "\n",
    "- popluation 은 search space에서 유지된다.\n",
    "- chromosome은 여러 genes로 구성된다.\n",
    "- Fitness Score은 각 개체마다 측정되며 경쟁 능력을 평가한다.\n"
   ],
   "metadata": {}
  },
  {
   "cell_type": "code",
   "execution_count": null,
   "source": [
    "import random\n",
    "\n",
    "POPULATION_SIZE = 100\n",
    "\n",
    "GENES = '''abcdefghijklmnopqrstuvwxyzABCDEFGHIJKLMNOP\n",
    "QRSTUVWXYZ 1234567890, .-;:_!\"#%&/()=?@${[]}'''\n",
    "\n",
    "TARGET = \"I love GeeksforGeeks\"\n",
    "\n",
    "class Individual:\n",
    "    def __init__(self, chromosome):\n",
    "        self.chromosome = chromosome\n",
    "        self.fitness = self.cal_fitness()\n",
    "\n",
    "    @classmethod\n",
    "    def mutated_genes(cls):\n",
    "        global GENES\n",
    "        gene = random.choice(GENES)\n",
    "        return gene\n",
    "\n",
    "    @classmethod\n",
    "    def create_gnome(cls):\n",
    "        global TARGET\n",
    "        gnome_len = len(TARGET)\n",
    "        return [self.mutated_genes() for _ in range(gnome_len)]\n",
    "\n",
    "    def mate(self, par2):\n",
    "        child_chromosome =[]\n",
    "        for gp1, gp2 in zip(self.chromosome, par2.chromosome):\n",
    "            prob = random.random()\n",
    "            if prob < 0.45:\n",
    "                child_chromosome.append(gp1)\n",
    "            elif prob < 0.9:\n",
    "                child_chromosome.append(gp2)\n",
    "            else:\n",
    "                child_chromosome.append(self.mutated_genes())\n",
    "\n",
    "        return Individual(child_chromosome)\n",
    "\n",
    "    "
   ],
   "outputs": [],
   "metadata": {}
  },
  {
   "cell_type": "markdown",
   "source": [],
   "metadata": {}
  }
 ],
 "metadata": {
  "orig_nbformat": 4,
  "language_info": {
   "name": "plaintext"
  }
 },
 "nbformat": 4,
 "nbformat_minor": 2
}