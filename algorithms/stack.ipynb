{
 "cells": [
  {
   "cell_type": "markdown",
   "source": [
    "# Stack\n",
    "\n",
    "![](https://media.geeksforgeeks.org/wp-content/uploads/20210716162942/stack-660x345.png)\n",
    "\n",
    "- linear 자료 구조\n",
    "- LIFO / FILO\n",
    "- operations\n",
    "    - push : stack이 full이면 Overflow \n",
    "    - pop : stack이 empty이면 Underflow"
   ],
   "metadata": {}
  },
  {
   "cell_type": "code",
   "execution_count": 1,
   "source": [
    "# array로 구현\n",
    "from sys import maxsize\n",
    "\n",
    "def isEmpty(stack):\n",
    "    return len(stack) == 0\n",
    "\n",
    "def push(stack, item):\n",
    "    stack.append(item)\n",
    "\n",
    "def pop(stack):\n",
    "    if isEmpty(stack):\n",
    "        return str(-maxsize -1)\n",
    "    return stack.pop()\n",
    "\n",
    "def peek(stack):\n",
    "    if isEmpty(stack):\n",
    "        return str(-maxsize-1)\n",
    "    return stack[len(stack)-1]"
   ],
   "outputs": [],
   "metadata": {}
  },
  {
   "cell_type": "code",
   "execution_count": 2,
   "source": [
    "stack = []\n",
    "push(stack, str(10))\n",
    "push(stack, str(20))\n",
    "push(stack, str(30))\n",
    "print(pop(stack), \" popped from stack\")"
   ],
   "outputs": [
    {
     "output_type": "stream",
     "name": "stdout",
     "text": [
      "30  popped from stack\n"
     ]
    }
   ],
   "metadata": {}
  },
  {
   "cell_type": "code",
   "execution_count": 4,
   "source": [
    "# linked list로 구현\n",
    "class StackNode:\n",
    "    def __init__(self, data):\n",
    "        self.data = data\n",
    "        self.next = None\n",
    "\n",
    "class Stack:\n",
    "    def __init__(self):\n",
    "        self.root = None\n",
    "    \n",
    "    def isEmpty(self):\n",
    "        return True if self.root is None else False\n",
    "\n",
    "    def push(self, data):\n",
    "        newNode = StackNode(data)\n",
    "        newNode.next = self.root\n",
    "        self.root = newNode\n",
    "\n",
    "    def pop(self):\n",
    "        if self.isEmpty():\n",
    "            return float(\"-inf\")\n",
    "\n",
    "        temp = self.root\n",
    "        self.root = self.root.next\n",
    "        popped = temp.data\n",
    "        return popped\n",
    "\n",
    "    def peek(self):\n",
    "        if self.isEmpty():\n",
    "            return float(\"-inf\")\n",
    "        return self.root.data"
   ],
   "outputs": [],
   "metadata": {}
  },
  {
   "cell_type": "code",
   "execution_count": null,
   "source": [],
   "outputs": [],
   "metadata": {}
  }
 ],
 "metadata": {
  "orig_nbformat": 4,
  "kernelspec": {
   "name": "venv_py3.8",
   "display_name": "venv_py3.8",
   "language": "python"
  }
 },
 "nbformat": 4,
 "nbformat_minor": 2
}