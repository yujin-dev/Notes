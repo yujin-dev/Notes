{
 "cells": [
  {
   "cell_type": "markdown",
   "source": [
    "# Binary Tree\n",
    "\n",
    "### tree\n",
    "tree는 계층적 자료구조이다.\n",
    "- root : 가장 최상위 노드\n",
    "- children: 각 노드는 자식 노드를 갖는다.\n",
    "- leaf: 자식 노드가 없는 노드\n",
    "\n",
    "### why tree?\n",
    "- 디렉토리 구조처럼 계층적 구조를 적용하고자 할 때\n",
    "- 접근 / 탐색의 용이성 : linked list보다 빠르나 array보다 느리다.\n",
    "- 삽입 / 삭제의 용이성: array보다 빠르나 unordered linked list보다 느리다.\n",
    "- array와 다르게 linked list와 마찬가지로 upper 한계가 없다. \n",
    "\n",
    "### binary tree\n",
    "자식 노드가 최대 2개인 tree\n",
    "- 최대 노드 갯수\n",
    "    - 2^l ( l =  level )\n",
    "    - 2^(h+1) - 1( h = height ) \n",
    "\n",
    "- N개의 node에 대해 최소 높이 : Log2(N+1) - 1\n",
    "\n",
    "#### Types \n",
    "- Full Binary Tree : 자식 노드가 0 또는 2\n",
    "- Complete Binary Tree : 마지막 레벨을 제외하고 모든 노드가 2개의 children으로 채워짐\n",
    "- Perfect Binary Tree : 모든 자식 노드가 2개이고 같은 level\n",
    "- Balanced Binary Tree : 높이가 O(Logn)"
   ],
   "metadata": {}
  },
  {
   "cell_type": "code",
   "execution_count": 2,
   "source": [
    "class Node:\n",
    "    def __init__(self, key):\n",
    "        self.left = None\n",
    "        self.right = None\n",
    "        self.val = key"
   ],
   "outputs": [],
   "metadata": {}
  },
  {
   "cell_type": "code",
   "execution_count": 3,
   "source": [
    "root = Node(1)\n",
    "root.left = Node(2)\n",
    "root.right = Node(3)\n",
    "root.left.left = Node(4)\n",
    "\n",
    "'''\n",
    "           1\n",
    "       /       \\\n",
    "      2          3\n",
    "    /   \\       /  \\\n",
    "   4    None  None  None\n",
    "  /  \\\n",
    "None None\n",
    "'''"
   ],
   "outputs": [],
   "metadata": {}
  },
  {
   "cell_type": "markdown",
   "source": [
    "## Tree Traversals\n",
    "다른 linear 자료 구조와 다르게 traverse하는 경우가 몇 가지 있다.\n",
    "\n",
    "![](https://media.geeksforgeeks.org/wp-content/cdn-uploads/2009/06/tree12.gif)\n",
    "### Depth First Traversal\n",
    "- Inorder(Left-Root-Right) : 4-2-5-1-3\n",
    "- Preorder(Root-Left-Right) : 1-2-4-5-3\n",
    "- Postorder(Left-Right-Root): 4-5-2-3-1\n",
    "\n",
    "### Breadth First Traversal\n",
    "1-2-3-4-5 "
   ],
   "metadata": {}
  },
  {
   "cell_type": "markdown",
   "source": [
    "### Inorder Traversal\n",
    "1. traverse the left subtree, Inorder\n",
    "2. visit root\n",
    "3. traverse the right subtree, Inorder\n",
    "\n",
    "### Preorder Traversal\n",
    "1. visit root\n",
    "2. traverse the left subtree, Preorder\n",
    "3. traverse the right subtree, Preorder\n",
    "\n",
    "### Postorder Traversal\n",
    "1. traverse the left subtree, Postorder\n",
    "2. traverse the right subtree, Postorder\n",
    "3. visit root"
   ],
   "metadata": {}
  },
  {
   "cell_type": "code",
   "execution_count": 9,
   "source": [
    "def printInorder(root, orders):\n",
    "    if root:\n",
    "        printInorder(root.left, orders)\n",
    "        orders.append(root.val)\n",
    "        printInorder(root.right, orders)\n",
    "\n",
    "def printPreorder(root, orders):\n",
    "    if root:\n",
    "        orders.append(root.val)\n",
    "        printPreorder(root.left, orders)\n",
    "        printPreorder(root.right, orders)\n",
    "\n",
    "def printPostorder(root, orders):\n",
    "    if root:\n",
    "        printPostorder(root.left, orders)\n",
    "        printPostorder(root.right, orders)\n",
    "        orders.append(root.val)\n"
   ],
   "outputs": [],
   "metadata": {}
  },
  {
   "cell_type": "code",
   "execution_count": 10,
   "source": [
    "root = Node(1)\n",
    "root.left = Node(2)\n",
    "root.right = Node(3)\n",
    "root.left.left = Node(4)\n",
    "root.left.right = Node(5)\n",
    "\n",
    "preorders, inorders, postorders = [], [], []\n",
    "printInorder(root, inorders)\n",
    "printPreorder(root, preorders)\n",
    "printPostorder(root, postorders)\n",
    "print(\"InOrder: \", inorders)\n",
    "print(\"PreOrder: \", preorders)\n",
    "print(\"PostOrder: \", postorders)"
   ],
   "outputs": [
    {
     "output_type": "stream",
     "name": "stdout",
     "text": [
      "InOrder:  [4, 2, 5, 1, 3]\n",
      "PreOrder:  [1, 2, 4, 5, 3]\n",
      "PostOrder:  [4, 5, 2, 3, 1]\n"
     ]
    }
   ],
   "metadata": {}
  },
  {
   "cell_type": "code",
   "execution_count": null,
   "source": [],
   "outputs": [],
   "metadata": {}
  }
 ],
 "metadata": {
  "orig_nbformat": 4,
  "kernelspec": {
   "name": "venv_py3.8",
   "display_name": "venv_py3.8",
   "language": "python"
  },
  "language_info": {
   "name": "python",
   "version": "3.8.10",
   "mimetype": "text/x-python",
   "codemirror_mode": {
    "name": "ipython",
    "version": 3
   },
   "pygments_lexer": "ipython3",
   "nbconvert_exporter": "python",
   "file_extension": ".py"
  }
 },
 "nbformat": 4,
 "nbformat_minor": 2
}