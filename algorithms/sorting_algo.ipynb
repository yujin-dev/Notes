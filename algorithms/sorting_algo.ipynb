{
 "cells": [
  {
   "cell_type": "markdown",
   "source": [
    "# Sorting Algorithms"
   ],
   "metadata": {}
  },
  {
   "cell_type": "markdown",
   "source": [
    "## Selection Sort\n",
    "- 가장 작은 숫자를 계속 찾으면서 시작점과 바꾸면서 정렬\n",
    "- Time complexity: O(n^2) ※이중 for문"
   ],
   "metadata": {}
  },
  {
   "cell_type": "code",
   "execution_count": 3,
   "source": [
    "def selectionSort(arr):\n",
    "\n",
    "    for i in range(len(arr)):\n",
    "        min_idx = i\n",
    "        for j in range(i + 1, len(arr)):\n",
    "            if arr[min_idx] > arr[j]:\n",
    "                min_idx = j\n",
    "        arr[i], arr[min_idx] = arr[min_idx], arr[i] # switch\n",
    "\n",
    "    return arr"
   ],
   "outputs": [],
   "metadata": {}
  },
  {
   "cell_type": "code",
   "execution_count": 10,
   "source": [
    "arr = [64, 25, 12, 22, 11]\n",
    "selectionSort(arr)\n",
    "arr"
   ],
   "outputs": [
    {
     "output_type": "execute_result",
     "data": {
      "text/plain": [
       "[11, 12, 22, 25, 64]"
      ]
     },
     "metadata": {},
     "execution_count": 10
    }
   ],
   "metadata": {}
  },
  {
   "cell_type": "markdown",
   "source": [
    "## Bubble Sort\n",
    "- 가장 간단한 sorting 알고리즘으로 근접한 숫자끼리 계속 바꾸면서 정렬\n",
    "- Time complexity: O(n^2) ※이중 for문"
   ],
   "metadata": {}
  },
  {
   "cell_type": "code",
   "execution_count": 8,
   "source": [
    "def bubbleSort(arr):\n",
    "    n = len(arr)\n",
    "    for i in range(n):\n",
    "        for j in range(0, n-i-1):\n",
    "            if arr[j] > arr[j+1]:\n",
    "                arr[j], arr[j+1] = arr[j+1], arr[j] # switch\n",
    "\n",
    "    return arr"
   ],
   "outputs": [],
   "metadata": {}
  },
  {
   "cell_type": "code",
   "execution_count": 9,
   "source": [
    "arr = [64, 34, 25, 12, 22, 11, 90]\n",
    "bubbleSort(arr)\n",
    "arr"
   ],
   "outputs": [
    {
     "output_type": "execute_result",
     "data": {
      "text/plain": [
       "[11, 12, 22, 25, 34, 64, 90]"
      ]
     },
     "metadata": {},
     "execution_count": 9
    }
   ],
   "metadata": {}
  },
  {
   "cell_type": "markdown",
   "source": [
    "## Insertion Sort\n",
    "- sorted / unsorted로 나뉘어 unsorted 부분에서 정렬한다.\n",
    "- Time complexity: O(n^2)\n",
    "\n",
    "\n",
    "![](https://media.geeksforgeeks.org/wp-content/uploads/insertionsort.png)\n",
    "\n",
    "출처: https://www.geeksforgeeks.org/insertion-sort/"
   ],
   "metadata": {}
  },
  {
   "cell_type": "code",
   "execution_count": 1,
   "source": [
    "def insertionSort(arr):\n",
    "    for i in range(1, len(arr)):\n",
    "        key = arr[i]\n",
    "        j = i-1\n",
    "        while j>=0 and arr[j]>key:\n",
    "            arr[j+1] = arr[j]\n",
    "            j -= 1\n",
    "        arr[j+1] = key\n",
    "    return arr"
   ],
   "outputs": [],
   "metadata": {}
  },
  {
   "cell_type": "code",
   "execution_count": 2,
   "source": [
    "arr = [12, 11, 13, 5, 6]\n",
    "insertionSort(arr)"
   ],
   "outputs": [
    {
     "output_type": "execute_result",
     "data": {
      "text/plain": [
       "[5, 6, 11, 12, 13]"
      ]
     },
     "metadata": {},
     "execution_count": 2
    }
   ],
   "metadata": {}
  },
  {
   "cell_type": "markdown",
   "source": [
    "## Merge Sort\n",
    "- Divide and Conquer 알고리즘으로 array를 2 부분으로 나누어 정렬하고 합친다.\n",
    "- Time complexity: O(nLogn)\n",
    "\n",
    "```sh\n",
    "If r > l\n",
    "     1. Find the middle point to divide the array into two halves:  \n",
    "             middle m = l+ (r-l)/2\n",
    "     2. Call mergeSort for first half:   \n",
    "             Call mergeSort(arr, l, m)\n",
    "     3. Call mergeSort for second half:\n",
    "             Call mergeSort(arr, m+1, r)\n",
    "     4. Merge the two halves sorted in step 2 and 3:\n",
    "             Call merge(arr, l, m, r)\n",
    "```"
   ],
   "metadata": {}
  },
  {
   "cell_type": "code",
   "execution_count": 5,
   "source": [
    "def mergeSort(arr):\n",
    "\n",
    "    if len(arr) > 1:\n",
    "        mid = len(arr) // 2\n",
    "        L = arr[:mid]\n",
    "        R = arr[mid:]\n",
    "        mergeSort(L)\n",
    "        mergeSort(R)\n",
    "        i = j = k = 0\n",
    "        while i < len(L) and j < len(R):\n",
    "            if L[i] < R[j]:\n",
    "                arr[k] = L[i]\n",
    "                i += 1\n",
    "            else:\n",
    "                arr[k] = R[j]\n",
    "                j += 1\n",
    "            k += 1\n",
    "        while i < len(L):\n",
    "            arr[k] = L[i]\n",
    "            i+=1\n",
    "            k+=1\n",
    "        while j < len(R):\n",
    "            arr[k] = R[j]\n",
    "            j += 1\n",
    "            k += 1\n",
    "    return arr"
   ],
   "outputs": [],
   "metadata": {}
  },
  {
   "cell_type": "code",
   "execution_count": 6,
   "source": [
    "arr = [12, 11, 13, 5, 6, 7]\n",
    "mergeSort(arr)\n",
    "arr"
   ],
   "outputs": [
    {
     "output_type": "execute_result",
     "data": {
      "text/plain": [
       "[5, 6, 7, 11, 12, 13]"
      ]
     },
     "metadata": {},
     "execution_count": 6
    }
   ],
   "metadata": {}
  },
  {
   "cell_type": "markdown",
   "source": [
    "## QuickSort\n",
    "- Divide and Conquer 알고리즘으로 하나의 요소를 pivot으로 선택하고 partition으로 나눈다.\n",
    "- Time complexity: O(nLogn)\n",
    "\n",
    "```sh\n",
    "/* low  --> Starting index,  high  --> Ending index */\n",
    "quickSort(arr[], low, high)\n",
    "{\n",
    "    if (low < high)\n",
    "    {\n",
    "        /* pi is partitioning index, arr[pi] is now\n",
    "           at right place */\n",
    "        pi = partition(arr, low, high);\n",
    "\n",
    "        quickSort(arr, low, pi - 1);  // Before pi\n",
    "        quickSort(arr, pi + 1, high); // After pi\n",
    "    }\n",
    "}\n",
    "```"
   ],
   "metadata": {}
  },
  {
   "cell_type": "code",
   "execution_count": 7,
   "source": [
    "def partition(start, end, array):\n",
    "\n",
    "    pivot_index = start\n",
    "    pivot = array[pivot_index]\n",
    "    while start < end:\n",
    "        while start < len(array) and array[start] <= pivot:\n",
    "            start += 1\n",
    "        while array[end] > pivot:\n",
    "            end -= 1\n",
    "        if (start < end) :\n",
    "            array[start], array[end] = array[end], array[start]\n",
    "    array[end], array[pivot_index] = array[pivot_index], array[end]\n",
    "    return end\n",
    "\n",
    "def quickSort(start, end, array):\n",
    "    if (start < end):\n",
    "        p = partition(start, end, array)\n",
    "        quickSort(start, p-1, array)\n",
    "        quickSort(p+1, end, array)\n"
   ],
   "outputs": [],
   "metadata": {}
  },
  {
   "cell_type": "code",
   "execution_count": 9,
   "source": [
    "array = [ 10, 7, 8, 9, 1, 5 ]\n",
    "quickSort(0, len(array)-1, array)\n",
    "array"
   ],
   "outputs": [
    {
     "output_type": "execute_result",
     "data": {
      "text/plain": [
       "[1, 5, 7, 8, 9, 10]"
      ]
     },
     "metadata": {},
     "execution_count": 9
    }
   ],
   "metadata": {}
  },
  {
   "cell_type": "markdown",
   "source": [
    "## HeapSort\n",
    "- Complete Binary Tree: 모든 노드의 두 개의 child 노드가 모두 있는 binary tree\n",
    "- Binary Heap: 자식 노드보다 부모 노드의 값이 더 큰 Complete Binary Tree\n",
    "- 부모 노드가 I 인덱스에 있다면 왼쪽 자식 노드는 2*I + 1로 나타나고 오른쪽 자식 노드는 2*I + 2 가 된다.\n",
    "- Time Complexity: O(Logn)\n",
    "- 장점\n",
    "    - Efficiency\n",
    "    - Memory Usage\n",
    "    - Simplicity"
   ],
   "metadata": {}
  },
  {
   "cell_type": "code",
   "execution_count": 10,
   "source": [
    "def heapify(arr, n, i):\n",
    "    largest = i\n",
    "    left = 2*i + 1\n",
    "    right = 2*i + 2\n",
    "\n",
    "    if left < n and arr[largest] < arr[left]:\n",
    "        largest = left\n",
    "    if right < n and arr[largest] < arr[right]:\n",
    "        largest = right\n",
    "    if largest != i:\n",
    "        arr[i], arr[largest] = arr[largest], arr[i]\n",
    "        heapify(arr, n, largest)\n",
    "\n",
    "def heapSort(arr):\n",
    "\n",
    "    n = len(arr)\n",
    "    for i in range(n//2-1, -1, -1):\n",
    "        heapify(arr, n, i)\n",
    "    for i in range(n-1, 0, -1):\n",
    "        arr[i], arr[0] = arr[0], arr[i]\n",
    "        heapify(arr, i, 0)\n",
    "    return arr"
   ],
   "outputs": [],
   "metadata": {}
  },
  {
   "cell_type": "code",
   "execution_count": 11,
   "source": [
    "arr = [12, 11, 13, 5, 6, 7]\n",
    "heapSort(arr)\n",
    "arr"
   ],
   "outputs": [
    {
     "output_type": "execute_result",
     "data": {
      "text/plain": [
       "[5, 6, 7, 11, 12, 13]"
      ]
     },
     "metadata": {},
     "execution_count": 11
    }
   ],
   "metadata": {}
  }
 ],
 "metadata": {
  "orig_nbformat": 4,
  "kernelspec": {
   "name": "venv-py3.8",
   "display_name": "venv-py3.8",
   "language": "python"
  },
  "language_info": {
   "name": "python",
   "version": "3.8.10",
   "mimetype": "text/x-python",
   "codemirror_mode": {
    "name": "ipython",
    "version": 3
   },
   "pygments_lexer": "ipython3",
   "nbconvert_exporter": "python",
   "file_extension": ".py"
  }
 },
 "nbformat": 4,
 "nbformat_minor": 2
}