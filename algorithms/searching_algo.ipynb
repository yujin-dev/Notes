{
 "cells": [
  {
   "cell_type": "markdown",
   "source": [
    "# Search Algorithms"
   ],
   "metadata": {}
  },
  {
   "cell_type": "markdown",
   "source": [
    "## Binary Search\n",
    "- sorted array에서 계속 반으로 쪼개면서 탐색하는 방식\n",
    "- Time complexity: O(Logn)"
   ],
   "metadata": {}
  },
  {
   "cell_type": "code",
   "execution_count": 8,
   "source": [
    "def binarySearch(arr, left, right, x):\n",
    "    if right >= left:\n",
    "        mid = left + (right-left) // 2\n",
    "        if arr[mid] == x:\n",
    "            return mid\n",
    "        elif arr[mid] > x:\n",
    "            return binarySearch(arr, left, mid-1, x)\n",
    "        else:\n",
    "            return binarySearch(arr, mid+1, right, x)\n",
    "    else:\n",
    "        return -1\n",
    "\n",
    "def binarySearch_v2(arr, left, right, x):\n",
    "    while left <= right:\n",
    "        mid = left + (right-left) // 2\n",
    "\n",
    "        if arr[mid] == x:\n",
    "            return mid\n",
    "\n",
    "        elif arr[mid] < x:\n",
    "            left = mid+1\n",
    "        \n",
    "        else:\n",
    "            right = mid-1\n",
    "    return -1"
   ],
   "outputs": [],
   "metadata": {}
  },
  {
   "cell_type": "code",
   "execution_count": 7,
   "source": [
    "arr = [2,3,4,10,40]\n",
    "x = 10\n",
    "\n",
    "result = binarySearch(arr, 0, len(arr)-1, x)\n",
    "if (result == -1):\n",
    "    print(\"Element is not present in array\")\n",
    "else:\n",
    "    print(\"Element is present at index\", result)"
   ],
   "outputs": [
    {
     "output_type": "stream",
     "name": "stdout",
     "text": [
      "Element is present at index 3\n"
     ]
    }
   ],
   "metadata": {}
  },
  {
   "cell_type": "code",
   "execution_count": 9,
   "source": [
    "arr = [2,3,4,10,40]\n",
    "x = 10\n",
    "\n",
    "result = binarySearch_v2(arr, 0, len(arr)-1, x)\n",
    "if (result == -1):\n",
    "    print(\"Element is not present in array\")\n",
    "else:\n",
    "    print(\"Element is present at index\", result)"
   ],
   "outputs": [
    {
     "output_type": "stream",
     "name": "stdout",
     "text": [
      "Element is present at index 3\n"
     ]
    }
   ],
   "metadata": {}
  },
  {
   "cell_type": "markdown",
   "source": [
    "## Linear Search\n",
    "- 하나씩 비교하면서 찾는 값과 일치하면 반환\n",
    "- Time complexity: O(n)"
   ],
   "metadata": {}
  },
  {
   "cell_type": "code",
   "execution_count": 1,
   "source": [
    "def LinearSearch(arr, n, x):\n",
    "    for i in range(0, n):\n",
    "        if (arr[i] == x):\n",
    "            return i\n",
    "    return -1"
   ],
   "outputs": [],
   "metadata": {}
  },
  {
   "cell_type": "code",
   "execution_count": 2,
   "source": [
    "arr = [2,3,4,10,40]\n",
    "x = 10\n",
    "n = len(arr)\n",
    "\n",
    "result = LinearSearch(arr, n, x)\n",
    "if (result == -1):\n",
    "    print(\"Element is not present in array\")\n",
    "else:\n",
    "    print(\"Element is present at index\", result)"
   ],
   "outputs": [
    {
     "output_type": "stream",
     "name": "stdout",
     "text": [
      "Element is present at index 3\n"
     ]
    }
   ],
   "metadata": {}
  },
  {
   "cell_type": "markdown",
   "source": [
    "### Binary Search vs. Linear Search\n",
    "\n",
    "- Binary Search를 적용하기 위해서는 array가 순서대로 정렬되어 있어야 하지만, Linear Search는 그럴 필요가 없다.\n",
    "- Linear Search는 순차적으로 접근하지만 Binary Search에서는 랜덤으로 접근하게 된다.\n",
    "- 시간 복잡도의 차이: Linear Search 의 경우 O(n), Binary Search는 O(Logn)\n",
    "\n",
    "#### Linear Search \n",
    "![](https://media.geeksforgeeks.org/wp-content/uploads/Linear.png)\n",
    "\n",
    "#### Binary Search\n",
    "![](https://media.geeksforgeeks.org/wp-content/uploads/binary-3.png)"
   ],
   "metadata": {}
  },
  {
   "cell_type": "markdown",
   "source": [
    "## Interpolation Search"
   ],
   "metadata": {}
  },
  {
   "cell_type": "code",
   "execution_count": 3,
   "source": [
    "def interpolationSearch(arr, lo, hi, x):\n",
    "\n",
    "    if (lo <= hi and x >= arr[lo] and x<= arr[hi]):\n",
    "        pos = lo + ((hi - lo) // (arr[hi] - arr[lo])*(x-arr[lo]))\n",
    "        if arr[pos] == x:\n",
    "            return pos\n",
    "\n",
    "        if arr[pos] < x:\n",
    "            return interpolationSearch(arr, pos+1, hi, x)\n",
    "        if arr[pos] > x:\n",
    "            return interpolationSearch(arr, lo, pos-1, x)\n",
    "    return -1"
   ],
   "outputs": [],
   "metadata": {}
  },
  {
   "cell_type": "code",
   "execution_count": 5,
   "source": [
    "arr = [10, 12, 13, 16, 18, 19, 20,\n",
    "       21, 22, 23, 24, 33, 35, 42, 47]\n",
    "n = len(arr)\n",
    "x = 18\n",
    "result = interpolationSearch(arr, 0, n-1, x)\n",
    "if (result == -1):\n",
    "    print(\"Element is not present in array\")\n",
    "else:\n",
    "    print(\"Element is present at index\", result)"
   ],
   "outputs": [
    {
     "output_type": "stream",
     "name": "stdout",
     "text": [
      "Element is present at index 4\n"
     ]
    }
   ],
   "metadata": {}
  },
  {
   "cell_type": "markdown",
   "source": [
    "## Jump Search\n",
    "- 전체 요소에서 일부를 스킵한다.\n",
    "- sorted array에서만 적용한다.\n",
    "- Time complexity: O(sqrt(n))"
   ],
   "metadata": {}
  },
  {
   "cell_type": "code",
   "execution_count": 25,
   "source": [
    "import math\n",
    "\n",
    "def jumpSearch(arr, x, n):\n",
    "    step = math.sqrt(n)\n",
    "    prev = 0\n",
    "    while arr[int(min(step, n)-1)] < x:\n",
    "        prev = step\n",
    "        step += math.sqrt(n)\n",
    "        if prev >= n:\n",
    "            return -1\n",
    "    while arr[int(prev)] < x:\n",
    "        prev += 1\n",
    "        if prev == min(step, n):\n",
    "            return -1\n",
    "    \n",
    "    if arr[int(prev)] == x:\n",
    "        return prev\n",
    "    return -1"
   ],
   "outputs": [],
   "metadata": {}
  },
  {
   "cell_type": "code",
   "execution_count": 27,
   "source": [
    "arr = [ 0, 1, 1, 2, 3, 5, 8, 13, 21,\n",
    "    34, 55, 89, 144, 233, 377, 610 ]\n",
    "x = 55\n",
    "n = len(arr)\n",
    "result = jumpSearch(arr, x, n)\n",
    "print(f\"Index of {x} is {int(result)}\")"
   ],
   "outputs": [
    {
     "output_type": "stream",
     "name": "stdout",
     "text": [
      "Index of 55 is 10\n"
     ]
    }
   ],
   "metadata": {}
  },
  {
   "cell_type": "markdown",
   "source": [
    "## Exponential Search\n",
    "- element가 있는 range를 찾고 binary search를 실행한다.\n",
    "- Time complexity: O(Logn)"
   ],
   "metadata": {}
  },
  {
   "cell_type": "code",
   "execution_count": 16,
   "source": [
    "def exponentialSearch(arr, n, x):\n",
    "    if arr[0] == x:\n",
    "        return 0\n",
    "    \n",
    "    i = 1\n",
    "    while i < n and arr[i] < x:\n",
    "        i = i*2\n",
    "    \n",
    "    return binarySearch(arr, int(i/2), min(i, n-1), x)"
   ],
   "outputs": [],
   "metadata": {}
  },
  {
   "cell_type": "code",
   "execution_count": 17,
   "source": [
    "arr = [2, 3, 4, 10, 40]\n",
    "n = len(arr)\n",
    "x = 10\n",
    "result = exponentialSearch(arr, n, x)\n",
    "if (result == -1):\n",
    "    print(\"Element is not present in array\")\n",
    "else:\n",
    "    print(\"Element is present at index\", result)"
   ],
   "outputs": [
    {
     "output_type": "stream",
     "name": "stdout",
     "text": [
      "Element is present at index 3\n"
     ]
    }
   ],
   "metadata": {}
  },
  {
   "cell_type": "markdown",
   "source": [
    "## Ternary Search\n",
    "- divide and conquer algorithm\n",
    "- binary search와 유사하나 세 개의 파트로 분할한다.\n",
    "- O(Log3n)"
   ],
   "metadata": {}
  },
  {
   "cell_type": "code",
   "execution_count": 22,
   "source": [
    "import math\n",
    "\n",
    "def ternarySearch(left, right, key, arr):\n",
    "    if (right >= left):\n",
    "        mid1 = left + (right-left) // 3\n",
    "        mid2 = right - (right-left) // 3\n",
    "        if (arr[mid1] == key):\n",
    "            return mid1\n",
    "        if (arr[mid2] == key):\n",
    "            return mid2\n",
    "\n",
    "        if (key < arr[mid1]):\n",
    "            return ternarySearch(left, mid1-1, key, arr)\n",
    "        elif (key> arr[mid2]):\n",
    "            return ternarySearch(mid2+1, right, key, arr)\n",
    "        else:\n",
    "            return ternarySearch(mid1+1, mid2-1, key, arr)\n",
    "    return -1"
   ],
   "outputs": [],
   "metadata": {}
  },
  {
   "cell_type": "code",
   "execution_count": 23,
   "source": [
    "l, r, p = 0, 9, 5\n",
    "ar = [ 1, 2, 3, 4, 5, 6, 7, 8, 9, 10 ]\n",
    "\n",
    "key = 5\n",
    "p = ternarySearch(l, r, key, ar)\n",
    "print(f\"Index of {key} is {p}\")\n",
    "\n",
    "key = 50\n",
    "p = ternarySearch(l, r, key, ar)\n",
    "print(f\"Index of {key} is {p}\")"
   ],
   "outputs": [
    {
     "output_type": "stream",
     "name": "stdout",
     "text": [
      "Index of 5 is 4\n",
      "Index of 50 is -1\n"
     ]
    }
   ],
   "metadata": {}
  },
  {
   "cell_type": "markdown",
   "source": [
    "### 왜 Binary Search가 Ternary Search보다 선호되는가?\n",
    "In binary search, there are 2Log2n + 1 comparisons in worst case. In ternary search, there are 4Log3n + 1 comparisons in worst case."
   ],
   "metadata": {}
  },
  {
   "cell_type": "markdown",
   "source": [],
   "metadata": {}
  }
 ],
 "metadata": {
  "orig_nbformat": 4,
  "kernelspec": {
   "name": "venv-py3.8",
   "display_name": "venv-py3.8",
   "language": "python"
  },
  "language_info": {
   "name": "python",
   "version": "3.8.10",
   "mimetype": "text/x-python",
   "codemirror_mode": {
    "name": "ipython",
    "version": 3
   },
   "pygments_lexer": "ipython3",
   "nbconvert_exporter": "python",
   "file_extension": ".py"
  }
 },
 "nbformat": 4,
 "nbformat_minor": 2
}