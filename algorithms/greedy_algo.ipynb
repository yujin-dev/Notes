{
 "cells": [
  {
   "cell_type": "markdown",
   "source": [
    "# Greedy Algorithms\n",
    "\n",
    "끝나는 시간이 가장 짧은 다음 activity를 고른다."
   ],
   "metadata": {}
  },
  {
   "cell_type": "code",
   "execution_count": 2,
   "source": [
    "def printMaxActivities(s, f):\n",
    "    n = len(f)\n",
    "    i = 0\n",
    "    for j in range(n):\n",
    "        if s[j] >= f[i]:\n",
    "            print(j)\n",
    "            i = j"
   ],
   "outputs": [],
   "metadata": {}
  },
  {
   "cell_type": "code",
   "execution_count": 3,
   "source": [
    "s = [1 , 3 , 0 , 5 , 8 , 5]\n",
    "f = [2 , 4 , 6 , 7 , 9 , 9]\n",
    "printMaxActivities(s , f)"
   ],
   "outputs": [
    {
     "output_type": "stream",
     "name": "stdout",
     "text": [
      "1\n",
      "3\n",
      "4\n"
     ]
    }
   ],
   "metadata": {}
  },
  {
   "cell_type": "code",
   "execution_count": 5,
   "source": [
    "# Time Complexity: O(nlogn)\n",
    "\n",
    "def MaxActivities(arr, n):\n",
    "    selected = []\n",
    "    arr.sort(key = lambda x: x[1])\n",
    "    i = 0\n",
    "    selected.append(arr[i])\n",
    "    for j in range(1, n):\n",
    "        if arr[j][0] >= arr[i][1]:\n",
    "            selected.append(arr[j])\n",
    "            i = j\n",
    "    return selected"
   ],
   "outputs": [],
   "metadata": {}
  },
  {
   "cell_type": "code",
   "execution_count": 7,
   "source": [
    "Activity = [[5, 9], [1, 2], [3, 4], [0, 6],[5, 7], [8, 9]]\n",
    "n = len(Activity)\n",
    "selected = MaxActivities(Activity, n)\n",
    "selected"
   ],
   "outputs": [
    {
     "output_type": "execute_result",
     "data": {
      "text/plain": [
       "[[1, 2], [3, 4], [5, 7], [8, 9]]"
      ]
     },
     "metadata": {},
     "execution_count": 7
    }
   ],
   "metadata": {}
  },
  {
   "cell_type": "markdown",
   "source": [
    "## Mininum Spanning Tree\n",
    "Spanning Tree은 모든 vertices를 연결한 그래프이다.  \n",
    "V=vertices의 갯수라고 하면 (V-1)개의 edges가 있다."
   ],
   "metadata": {}
  },
  {
   "cell_type": "markdown",
   "source": [
    "## Kruskal's Mininum Spanning Tree(MST)\n",
    "1. 모든 edges를 오름차순으로 정렬한다.\n",
    "2. 가장 작은 edge부터 cycle를 형성하는지 확인한다. cycle을 형성하지 않으면 포함시키고 아니면 버린다.\n",
    "\n",
    "![](https://media.geeksforgeeks.org/wp-content/uploads/20210727035309/UntitledDiagram92.png)\n",
    "\n",
    "아래와 같이 edge가 포함된다.\n",
    "1. 7 -- 6 (1)\n",
    "2. 6 -- 5 (2)\n",
    "3. 8 -- 2 (2)\n",
    "4. 0 -- 1 (4)\n",
    "5. 2 -- 5 (4)\n",
    "6. 2 -- 3 (7)\n",
    "7. 0 -- 7 (8)\n",
    "8. 3 -- 4 (9)"
   ],
   "metadata": {}
  },
  {
   "cell_type": "code",
   "execution_count": 4,
   "source": [
    "from collections import defaultdict\n",
    "\n",
    "class Graph:\n",
    "\n",
    "    def __init__(self, vertices):\n",
    "        self.V = vertices\n",
    "        self.graph = []\n",
    "\n",
    "    def add_edge(self, u, v, w):\n",
    "        self.graph.append([u, v, w])\n",
    "\n",
    "    def find(self, parent, i): \n",
    "        if parent[i] == i:\n",
    "            return i\n",
    "        return self.find(parent, parent[i])\n",
    "\n",
    "    def union(self, parent, rank, x, y):\n",
    "        x_root = self.find(parent, x)\n",
    "        y_root = self.find(parent, y)\n",
    "\n",
    "        if rank[x_root] < rank[y_root]:\n",
    "            parent[x_root] = y_root\n",
    "        elif rank[x_root] > rank[y_root]:\n",
    "            parent[y_root] = x_root\n",
    "        else:\n",
    "            parent[y_root] = x_root\n",
    "            rank[x_root] += 1\n",
    "\n",
    "    def KruskalMST(self):\n",
    "        result = []\n",
    "        i = 0\n",
    "        e = 0\n",
    "        self.graph = sorted(self.graph, key = lambda item:item[2]) # 거리 순으로 정렬한다.\n",
    "        parent = []\n",
    "        rank = []\n",
    "        for node in range(self.V):\n",
    "            parent.append(node) #[0,1,2,..]\n",
    "            rank.append(0) #[0,0,0,..]\n",
    "\n",
    "        while e < self.V - 1: \n",
    "            u, v, w = self.graph[i]\n",
    "            i = i+1\n",
    "            x = self.find(parent, u)\n",
    "            y = self.find(parent, v)\n",
    "            if x != y: # circle인지 확인한다. circle 형성이 안되면 포함시킨다.\n",
    "                e = e+1\n",
    "                result.append([u, v, w])\n",
    "                self.union(parent, rank, x, y)\n",
    "        \n",
    "        minimum_cost = 0\n",
    "        for u, v, weight in result:\n",
    "            minimum_cost += weight\n",
    "            print(\"%d -- %d == %d\"%(u, v, weight))\n",
    "        print(\"Minimum Spanning Tree : \", minimum_cost)"
   ],
   "outputs": [],
   "metadata": {}
  },
  {
   "cell_type": "code",
   "execution_count": 5,
   "source": [
    "\"\"\"\n",
    "            10\n",
    "        0--------1\n",
    "        | \\      |\n",
    "       6|   \\5   |15\n",
    "        |     \\  |\n",
    "        2--------3\n",
    "             4     \n",
    "\"\"\"\n",
    "g = Graph(4)\n",
    "g.add_edge(0, 1, 10)\n",
    "g.add_edge(0, 2, 6)\n",
    "g.add_edge(0, 3, 5)\n",
    "g.add_edge(1, 3, 15)\n",
    "g.add_edge(2, 3, 4)\n",
    "\n",
    "g.KruskalMST()\n"
   ],
   "outputs": [
    {
     "output_type": "stream",
     "name": "stdout",
     "text": [
      "2 -- 3 == 4\n",
      "0 -- 3 == 5\n",
      "0 -- 1 == 10\n",
      "Minimum Spanning Tree :  19\n"
     ]
    }
   ],
   "metadata": {}
  },
  {
   "cell_type": "markdown",
   "source": [
    "## Prim's Minimum Spinning Tree\n",
    "1. mstSet라는 집합을 생성한다.\n",
    "2. 모든 값을 INFINITE로 초기화하여 첫 번째 vertex를 0부터 시작한다.\n",
    "3. 모든 vertex를 포함할 때까지 다음을 반복한다\n",
    "    - 포함된 vertex의 인접한 가장 짧은 edge를 가진 vertex를 추가한다.\n",
    "\n",
    "![](https://www.geeksforgeeks.org/wp-content/uploads/Fig-11.jpg)\n",
    "\n",
    "1. 0 -- 1 (4) {0,1}\n",
    "2. 0 -- 7 (8) {0,1,7}\n",
    "3. 7 -- 6 (1) {0,1,7,6}\n",
    "4. 6 -- 5 (2) {0,1,7,6,5}\n",
    "5. 2 -- 8 (2) {0,1,7,6,5,2,8}\n",
    "6. 2 -- 3 (7) {0,1,7,6,5,2,8,3}\n",
    "7. 3 -- 4 (9) {0,1,7,6,5,2,8,3,4}"
   ],
   "metadata": {}
  },
  {
   "cell_type": "code",
   "execution_count": 14,
   "source": [
    "import sys\n",
    "\n",
    "class Graph:\n",
    "\n",
    "    def __init__(self, vertices):\n",
    "        self.V = vertices\n",
    "        self.graph = [[0 for column in range(vertices) for row in range(vertices)]] \n",
    "\n",
    "    def printMST(self, parent):\n",
    "        for i in range(1, self.V):\n",
    "            print(parent[i], \"-\", i, \"\\t\", self.graph[i][parent[i]])\n",
    "\n",
    "    def minKey(self, key, mstSet):\n",
    "        _min = sys.maxsize\n",
    "        for v in range(self.V): # mstSet에 포함되지 않은 가장 작은 index를 찾는다.\n",
    "            if key[v] < _min and mstSet[v] == False: \n",
    "                _min = key[v]\n",
    "                min_index = v\n",
    "        return min_index\n",
    "\n",
    "    def primMST(self):\n",
    "        key = [sys.maxsize] * self.V # 모든 vertices의 key값을 저장한다. \n",
    "        parent = [None] * self.V # parent node의 index를 저장한다. \n",
    "        key[0] = 0 # 첫번째 값은 0부터 시작\n",
    "        mstSet = [False] * self.V # 포함 유무를 입력한다. (초기화는 전체 False)\n",
    "        parent[0] = -1 \n",
    "\n",
    "        for count in range(self.V):\n",
    "            u = self.minKey(key, mstSet)\n",
    "            mstSet[u] = True\n",
    "            for v in range(self.V):\n",
    "                if self.graph[u][v] > 0 and mstSet[v] == False and key[v] > self.graph[u][v]: # 연결된 vertex 중 포함되지 않고 가장 짧은 edge를 찾는다.\n",
    "                    key[v] = self.graph[u][v]\n",
    "                    parent[v] = u\n",
    "        self.printMST(parent)\n"
   ],
   "outputs": [],
   "metadata": {}
  },
  {
   "cell_type": "code",
   "execution_count": 15,
   "source": [
    "g = Graph(5)\n",
    "g.graph = [ [0, 2, 0, 6, 0],\n",
    "            [2, 0, 3, 8, 5],\n",
    "            [0, 3, 0, 0, 7],\n",
    "            [6, 8, 0, 0, 9],\n",
    "            [0, 5, 7, 9, 0]]\n",
    "g.primMST()"
   ],
   "outputs": [
    {
     "output_type": "stream",
     "name": "stdout",
     "text": [
      "0 - 1 \t 2\n",
      "1 - 2 \t 3\n",
      "0 - 3 \t 6\n",
      "1 - 4 \t 5\n"
     ]
    }
   ],
   "metadata": {}
  },
  {
   "cell_type": "markdown",
   "source": [
    "## Dijkstra's Shortest Path\n",
    "1. 2가지 집합을 생성한다: 하나는 SPT에 포함된 vertices, 하나는 아직 포함되지 않은 집합이다."
   ],
   "metadata": {}
  },
  {
   "cell_type": "markdown",
   "source": [
    "## Huffman Coding"
   ],
   "metadata": {}
  },
  {
   "cell_type": "code",
   "execution_count": null,
   "source": [],
   "outputs": [],
   "metadata": {}
  }
 ],
 "metadata": {
  "orig_nbformat": 4,
  "kernelspec": {
   "name": "venv_py3.8",
   "display_name": "venv_py3.8",
   "language": "python"
  },
  "language_info": {
   "name": "python",
   "version": "3.8.10",
   "mimetype": "text/x-python",
   "codemirror_mode": {
    "name": "ipython",
    "version": 3
   },
   "pygments_lexer": "ipython3",
   "nbconvert_exporter": "python",
   "file_extension": ".py"
  }
 },
 "nbformat": 4,
 "nbformat_minor": 2
}