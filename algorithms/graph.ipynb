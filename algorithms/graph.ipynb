{
 "cells": [
  {
   "cell_type": "markdown",
   "source": [
    "# Graph Data Structure and Algorithms\n",
    "\n",
    "## Graph란\n",
    "non-linear 자료구조로 nodes( vertices ), edges로 구성되어 있다.\n",
    "\n",
    "![](https://www.geeksforgeeks.org/wp-content/uploads/undirectedgraph.png)"
   ],
   "metadata": {}
  },
  {
   "cell_type": "markdown",
   "source": [
    "## Adjacency Matrix\n",
    "V*V(V : 그래프의 vertices의 갯수) 사이즈의 2D array이다. \n",
    "- Time Complexity: O(1)\n",
    "\n",
    "![](https://cdncontribute.geeksforgeeks.org/wp-content/uploads/adjacencymatrix.png)\n",
    "\n",
    "## Adjacency List\n",
    "\n",
    "vertices의 갯수와 동일한 사이즈의 array를 포함한 list이다.\n",
    "- Time Complexity: O(V)\n",
    "\n",
    "![](https://cdncontribute.geeksforgeeks.org/wp-content/uploads/listadjacency.png)"
   ],
   "metadata": {}
  },
  {
   "cell_type": "code",
   "execution_count": 5,
   "source": [
    "# adjacency list로 표현\n",
    "class AdjNode:\n",
    "\n",
    "    def __init__(self, data):\n",
    "        self.vertex = data\n",
    "        self.next = None\n",
    "\n",
    "class Graph: # undirected graph의 경우\n",
    "    def __init__(self, vertices):\n",
    "        self.V = vertices\n",
    "        self.graph = [None] * self.V\n",
    "\n",
    "    def add_edge(self, src, dest):\n",
    "        # source node에 node를 추가한다.\n",
    "        node = AdjNode(dest)\n",
    "        node.next = self.graph[src]\n",
    "        self.graph[src] = node\n",
    "\n",
    "        # source node에 destination를 추가한다.\n",
    "        node = AdjNode(src)\n",
    "        node.next = self.graph[dest]\n",
    "        self.graph[dest] = node\n",
    "\n",
    "    def print_graph(self):\n",
    "        for i in range(self.V):\n",
    "            print(\"Adjacency list of vertex {}\\n head\".format(i), end=\"\")\n",
    "            temp = self.graph[i]\n",
    "            while temp:\n",
    "                print(\" -> {}\".format(temp.vertex), end = \"\")\n",
    "                temp = temp.next\n",
    "            print(\"\\n\")\n"
   ],
   "outputs": [],
   "metadata": {}
  },
  {
   "cell_type": "code",
   "execution_count": 4,
   "source": [
    "graph = Graph(5)\n",
    "graph.add_edge(0, 1)\n",
    "graph.add_edge(0, 4)\n",
    "graph.add_edge(1, 2)\n",
    "graph.add_edge(1, 3)\n",
    "graph.add_edge(1, 4)\n",
    "graph.add_edge(2, 3)\n",
    "graph.add_edge(3, 4)\n",
    "graph.print_graph()"
   ],
   "outputs": [
    {
     "output_type": "stream",
     "name": "stdout",
     "text": [
      "Adjacency list of vertex 0\n",
      " head -> 4 -> 1\n",
      "\n",
      "Adjacency list of vertex 1\n",
      " head -> 4 -> 3 -> 2 -> 0\n",
      "\n",
      "Adjacency list of vertex 2\n",
      " head -> 3 -> 1\n",
      "\n",
      "Adjacency list of vertex 3\n",
      " head -> 4 -> 2 -> 1\n",
      "\n",
      "Adjacency list of vertex 4\n",
      " head -> 3 -> 1 -> 0\n",
      "\n"
     ]
    }
   ],
   "metadata": {}
  },
  {
   "cell_type": "markdown",
   "source": [
    "## Breadth First Search(BFS)\n",
    "\n",
    "각 vertex마다 모든 인접한 vertices를 탐색한다. 이 때 방문 여부에 대한 boolean array를 사용한다.\n",
    "\n",
    "![](https://media.geeksforgeeks.org/wp-content/uploads/bfs-5.png)\n",
    "\n",
    "1. start : 2\n",
    "2. 2 -> 0\n",
    "3. 2 -> 3\n",
    "4. 0 -> 1"
   ],
   "metadata": {}
  },
  {
   "cell_type": "code",
   "execution_count": 5,
   "source": [
    "from collections import defaultdict\n",
    "\n",
    "class Graph:\n",
    "\n",
    "    def __init__(self):\n",
    "        self.graph = defaultdict(list)\n",
    "\n",
    "    def add_edge(self, u, v):\n",
    "        self.graph[u].append(v)\n",
    "\n",
    "    def BFS(self, start):\n",
    "        visited = [False] * (max(self.graph) + 1) # initialize visited array\n",
    "        queue = []\n",
    "        queue.append(start)\n",
    "        visited[start] = True\n",
    "\n",
    "        while queue:\n",
    "            start = queue.pop(0)\n",
    "            print(start, end = \" \")\n",
    "\n",
    "            # 모든 인접한 vertices를 확인\n",
    "            for i in self.graph[start]:\n",
    "                if visited[i] == False:\n",
    "                    queue.append(i)\n",
    "                    visited[i] = True "
   ],
   "outputs": [],
   "metadata": {}
  },
  {
   "cell_type": "code",
   "execution_count": 6,
   "source": [
    "g = Graph()\n",
    "g.add_edge(0, 1)\n",
    "g.add_edge(0, 2)\n",
    "g.add_edge(1, 2)\n",
    "g.add_edge(2, 0)\n",
    "g.add_edge(2, 3)\n",
    "g.add_edge(3, 3)\n",
    "g.BFS(2)"
   ],
   "outputs": [
    {
     "output_type": "stream",
     "name": "stdout",
     "text": [
      "2 0 3 1 "
     ]
    }
   ],
   "metadata": {}
  },
  {
   "cell_type": "markdown",
   "source": [
    "## Depth First Search(DFS)\n",
    "\n",
    "- Time Complexity: O(V+E)\n",
    "\n",
    "![](https://media.geeksforgeeks.org/wp-content/uploads/20200507074112/ezgif.com-gif-maker61.gif)\n",
    "\n",
    "1. start: 1\n",
    "2. 1 -> 2\n",
    "3. 2 -> 0\n",
    "4. 2 -> 3\n"
   ],
   "metadata": {}
  },
  {
   "cell_type": "code",
   "execution_count": 7,
   "source": [
    "from collections import defaultdict\n",
    "\n",
    "class Graph:\n",
    "\n",
    "    def __init__(self):\n",
    "\n",
    "        self.graph = defaultdict(list)\n",
    "\n",
    "    def add_edge(self, u, v):\n",
    "        self.graph[u].append(v)\n",
    "\n",
    "    def DFSUtil(self, v, visited):\n",
    "        visited.add(v)\n",
    "        print(v, end = \" \")\n",
    "\n",
    "        for neighbour in self.graph[v]:\n",
    "            if neighbour not in visited:\n",
    "                self.DFSUtil(neighbour, visited)\n",
    "\n",
    "    def DFS(self, v):\n",
    "        visited = set()\n",
    "        self.DFSUtil(v, visited)"
   ],
   "outputs": [],
   "metadata": {}
  },
  {
   "cell_type": "code",
   "execution_count": 8,
   "source": [
    "g = Graph()\n",
    "g.add_edge(0, 1)\n",
    "g.add_edge(0, 2)\n",
    "g.add_edge(1, 2)\n",
    "g.add_edge(2, 0)\n",
    "g.add_edge(2, 3)\n",
    "g.add_edge(3, 3)\n",
    "g.DFS(2)"
   ],
   "outputs": [
    {
     "output_type": "stream",
     "name": "stdout",
     "text": [
      "2 0 1 3 "
     ]
    }
   ],
   "metadata": {}
  },
  {
   "cell_type": "markdown",
   "source": [
    "## Detect Cycle in a Directed Graph\n",
    "\n",
    "graph에서 cycle이 있는지 확인할 때 Depth First Traversal를 사용한다. \n",
    "\n",
    "![](https://media.geeksforgeeks.org/wp-content/cdn-uploads/20190704130006/DetectCycleInaDirectedGraph.png)\n",
    "\n",
    "recursion stack에서 recStack[] array를 사용해 vertices를 추적한다."
   ],
   "metadata": {}
  },
  {
   "cell_type": "code",
   "execution_count": 12,
   "source": [
    "from collections import defaultdict\n",
    "\n",
    "class Graph:\n",
    "\n",
    "    def __init__(self, vertices):\n",
    "        self.graph = defaultdict(list)\n",
    "        self.V = vertices\n",
    "\n",
    "    def add_edge(self, u, v):\n",
    "        self.graph[u].append(v)\n",
    "\n",
    "    def isCyclicUtil(self, v, visited, recStack):\n",
    "        visited[v] = True\n",
    "        recStack[v] = True\n",
    "\n",
    "        for neighbour in self.graph[v]:\n",
    "            if visited[neighbour] == False:\n",
    "                if self.isCyclicUtil(neighbour, visited, recStack):\n",
    "                    return True\n",
    "            elif recStack[neighbour]:\n",
    "                return True\n",
    "            \n",
    "        recStack[v] = False\n",
    "        return False\n",
    "    \n",
    "    def isCyclic(self):\n",
    "        visited = [False] * (self.V+1)\n",
    "        recStack = [False] * (self.V+1)\n",
    "        \n",
    "        for node in range(self.V):\n",
    "            if visited[node] == False:\n",
    "                if self.isCyclicUtil(node, visited, recStack):\n",
    "                    return True\n",
    "        return False"
   ],
   "outputs": [],
   "metadata": {}
  },
  {
   "cell_type": "code",
   "execution_count": 13,
   "source": [
    "g = Graph(4)\n",
    "g.add_edge(0, 1)\n",
    "g.add_edge(0, 2)\n",
    "g.add_edge(1, 2)\n",
    "g.add_edge(2, 0)\n",
    "g.add_edge(2, 3)\n",
    "g.add_edge(3, 3)\n",
    "g.isCyclic()"
   ],
   "outputs": [
    {
     "output_type": "execute_result",
     "data": {
      "text/plain": [
       "True"
      ]
     },
     "metadata": {},
     "execution_count": 13
    }
   ],
   "metadata": {}
  },
  {
   "cell_type": "markdown",
   "source": [
    "## Detect Cycle in an Undirected graph\n",
    "\n",
    "![](https://media.geeksforgeeks.org/wp-content/cdn-uploads/Cycle-in-graph.png)"
   ],
   "metadata": {}
  },
  {
   "cell_type": "markdown",
   "source": [],
   "metadata": {}
  },
  {
   "cell_type": "code",
   "execution_count": null,
   "source": [
    "from collections import defaultdict\n",
    "\n",
    "class Graph:\n",
    "\n",
    "    def __init__(self, vertices):\n",
    "        self.V = vertices\n",
    "        self.graph = defaultdict(list)\n",
    "\n",
    "    def add_edge(self, u, v):\n",
    "        self.graph[u].append(v)\n",
    "\n",
    "    def find_parent(self, parent, i):\n",
    "        if parent[i] == -1:\n",
    "            return i\n",
    "        if parent[i] != -1:\n",
    "            return self.find_parent(parent, parent[i])\n",
    "\n",
    "    def union(self, parent, x, y):\n",
    "        parent[x] = y\n",
    "\n",
    "    def isCyclic(self):\n",
    "        parent = [-1] * self.V # -1로 초기화\n",
    "\n",
    "        for i in self.graph:\n",
    "            for j in self.graph[i]:\n",
    "                x = self.find_parent(parent, i)\n",
    "                y = self.find_parent(parent, j)\n",
    "                if x == y:\n",
    "                    return True\n",
    "                self.union(parent, x, y)\n"
   ],
   "outputs": [],
   "metadata": {}
  },
  {
   "cell_type": "code",
   "execution_count": 14,
   "source": [
    "g = Graph(3)\n",
    "g.add_edge(0, 1)\n",
    "g.add_edge(1, 2)\n",
    "g.add_edge(2, 0)\n",
    "g.isCyclic()"
   ],
   "outputs": [
    {
     "output_type": "execute_result",
     "data": {
      "text/plain": [
       "True"
      ]
     },
     "metadata": {},
     "execution_count": 14
    }
   ],
   "metadata": {}
  },
  {
   "cell_type": "markdown",
   "source": [
    "## Topological Sorting\n",
    "\n",
    "Directed Acyclic Graph(DAG) : vertices의 선형적인 ordering \n",
    "- Time complexity: O(V+E)\n",
    "\n",
    "![](https://media.geeksforgeeks.org/wp-content/uploads/20200818211917/Topological-Sorting-1.png)\n",
    "\n",
    "DFS에서는 adjacent vertex를 재귀적으로 호출하여 탐색하는데 topological sorting에서는 stack을 이용한다.\n",
    "\n",
    "1. 0 [0]\n",
    "2. 1 [0,1]\n",
    "3. 2->3 [0,1,3]\n",
    "4. 2 [0,1,3,2]\n",
    "5. 4 [0,1,3,2,4]\n",
    "6. 5 [0,1,3,2,4,5]\n",
    "\n",
    "stack으로 리스트를 추출한다."
   ],
   "metadata": {}
  },
  {
   "cell_type": "code",
   "execution_count": 19,
   "source": [
    "from collections import defaultdict\n",
    "\n",
    "class Graph:\n",
    "    def __init__(self, vertices):\n",
    "        self.graph = defaultdict(list)\n",
    "        self.V = vertices\n",
    "\n",
    "    def add_edge(self, u, v):\n",
    "        self.graph[u].append(v)\n",
    "\n",
    "    def topologicalSortUtil(self, v, visited, stack):\n",
    "        visited[v] = True\n",
    "        for i in self.graph[v]:\n",
    "            if visited[i] == False:\n",
    "                self.topologicalSortUtil(i, visited, stack)\n",
    "        stack.append(v)\n",
    "\n",
    "    def topologicalSort(self):\n",
    "        visited = [False] * self.V\n",
    "        stack = []\n",
    "\n",
    "        for i in range(self.V):\n",
    "            if visited[i] == False:\n",
    "                self.topologicalSortUtil(i, visited, stack)\n",
    "        print(stack[::-1])"
   ],
   "outputs": [],
   "metadata": {}
  },
  {
   "cell_type": "code",
   "execution_count": 20,
   "source": [
    "g = Graph(6)\n",
    "g.add_edge(5, 2)\n",
    "g.add_edge(5, 0)\n",
    "g.add_edge(4, 0)\n",
    "g.add_edge(4, 1)\n",
    "g.add_edge(2, 3)\n",
    "g.add_edge(3, 1)\n",
    "g.topologicalSort()"
   ],
   "outputs": [
    {
     "output_type": "stream",
     "name": "stdout",
     "text": [
      "[5, 4, 2, 3, 1, 0]\n"
     ]
    }
   ],
   "metadata": {}
  },
  {
   "cell_type": "code",
   "execution_count": null,
   "source": [],
   "outputs": [],
   "metadata": {}
  }
 ],
 "metadata": {
  "orig_nbformat": 4,
  "kernelspec": {
   "name": "venv_py3.8",
   "display_name": "venv_py3.8",
   "language": "python"
  },
  "language_info": {
   "name": "python",
   "version": "3.8.10",
   "mimetype": "text/x-python",
   "codemirror_mode": {
    "name": "ipython",
    "version": 3
   },
   "pygments_lexer": "ipython3",
   "nbconvert_exporter": "python",
   "file_extension": ".py"
  }
 },
 "nbformat": 4,
 "nbformat_minor": 2
}